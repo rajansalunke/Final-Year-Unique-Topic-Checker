{
 "cells": [
  {
   "cell_type": "code",
   "execution_count": 1,
   "metadata": {},
   "outputs": [],
   "source": [
    "import pandas as pd\n",
    "from sklearn.feature_extraction.text import TfidfVectorizer\n",
    "from sklearn.linear_model import LogisticRegression\n",
    "from sklearn.pipeline import Pipeline\n",
    "import joblib\n",
    "import json\n",
    "import re\n",
    "from sklearn.model_selection import train_test_split"
   ]
  },
  {
   "cell_type": "code",
   "execution_count": 2,
   "metadata": {},
   "outputs": [],
   "source": [
    "# Define the function for preprocessing\n",
    "def preprocess(text):\n",
    "    # Implement your preprocessing steps here\n",
    "    # For example: convert text to lowercase and remove punctuation\n",
    "    text = text.lower()\n",
    "    text = re.sub(r'[^\\w\\s]', '', text)\n",
    "    return text"
   ]
  },
  {
   "cell_type": "code",
   "execution_count": 3,
   "metadata": {},
   "outputs": [],
   "source": [
    "# Load JSON data into DataFrame in chunks\n",
    "def load_data_chunk(file_path, chunk_size):\n",
    "    chunks = pd.read_json(file_path, lines=True, chunksize=chunk_size)\n",
    "    return chunks"
   ]
  },
  {
   "cell_type": "code",
   "execution_count": 4,
   "metadata": {},
   "outputs": [],
   "source": [
    "# Load JSON data into DataFrame\n",
    "file_path = 'arxiv-metadata-oai-snapshot.json'\n",
    "chunk_size = 10000\n",
    "data_chunks = load_data_chunk(file_path, chunk_size)"
   ]
  },
  {
   "cell_type": "code",
   "execution_count": 5,
   "metadata": {},
   "outputs": [],
   "source": [
    "# Initialize model pipeline\n",
    "model = Pipeline([\n",
    "    ('tfidf', TfidfVectorizer(preprocessor=preprocess)),\n",
    "    ('clf', LogisticRegression())  # You can replace this with any other classifier\n",
    "])"
   ]
  },
  {
   "cell_type": "code",
   "execution_count": null,
   "metadata": {},
   "outputs": [],
   "source": [
    "# Train the model in chunks\n",
    "for i, chunk in enumerate(data_chunks):\n",
    "    X = chunk['title'] + ' ' + chunk['abstract']\n",
    "    y = chunk['category']  # Assuming you have a 'category' column indicating the label of each sample\n",
    "\n",
    "    # Train the model\n",
    "    if i == 0:\n",
    "        model.fit(X, y)\n",
    "    else:\n",
    "        model.partial_fit(X, y)"
   ]
  }
 ],
 "metadata": {
  "kernelspec": {
   "display_name": "Python 3",
   "language": "python",
   "name": "python3"
  },
  "language_info": {
   "codemirror_mode": {
    "name": "ipython",
    "version": 3
   },
   "file_extension": ".py",
   "mimetype": "text/x-python",
   "name": "python",
   "nbconvert_exporter": "python",
   "pygments_lexer": "ipython3",
   "version": "3.10.11"
  }
 },
 "nbformat": 4,
 "nbformat_minor": 2
}
